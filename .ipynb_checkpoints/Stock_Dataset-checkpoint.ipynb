{
 "cells": [
  {
   "cell_type": "code",
   "execution_count": null,
   "id": "c2ed8fcf-dd39-4eb8-8b7c-0e9f514f0705",
   "metadata": {},
   "outputs": [],
   "source": [
    "from pandas_datareader import data as pdr\n",
    "import yfinance as yfin\n",
    "from feature_extract import make_feature\n",
    "import import_ipynb\n",
    "\n",
    "class StockDataset:\n",
    "    def __init__(self, symbol_list, x_frames, y_frames,start, end):\n",
    "        self.symbol_list = symbol_list\n",
    "        self.x_frames = x_frames\n",
    "        self.y_frames = y_frames\n",
    "        self.start = start\n",
    "        self.end = end\n",
    "        self.data_list_ = self.data_list(self.symbol_list, self.start, self.end)\n",
    "\n",
    "\n",
    "    def data_list(self, symbol_list, start, end):\n",
    "        data_list = []\n",
    "        for symbol in symbol_list:\n",
    "            mf = make_feature(symbol,start,end)\n",
    "            data = mf.all_feature()\n",
    "            data_list.append(data)\n",
    "        return data_list\n",
    "\n",
    "    def __len__(self):\n",
    "        return len(self.data_list_[0])\n",
    "\n",
    "    def __getitem__(self, idx):\n",
    "        X_list=[]\n",
    "        y_list=[]\n",
    "        for data in self.data_list_:\n",
    "            X = data.iloc[idx : idx + self.x_frames,0:11].to_numpy()\n",
    "            y = data.iloc[idx + self.x_frames : idx + self.x_frames+self.y_frames, 11:].to_numpy()\n",
    "            X_list.append(X)\n",
    "            y_list.append(y)\n",
    "        return X_list, y_list  ## 데이터별 리스트\n",
    "\n",
    "if __name__==\"__main__\":\n",
    "    data_symbol_list = ['^IXIC', 'AAPL', 'AMZN','MSFT','TSLA','GOOG','FB','NVDA','AMD']\n",
    "    trainset = StockDataset(data_symbol_list, 10, 1,\"2012-01-01\",\"2016-12-31\")"
   ]
  }
 ],
 "metadata": {
  "kernelspec": {
   "display_name": "py38_64",
   "language": "python",
   "name": "py38_64"
  },
  "language_info": {
   "codemirror_mode": {
    "name": "ipython",
    "version": 3
   },
   "file_extension": ".py",
   "mimetype": "text/x-python",
   "name": "python",
   "nbconvert_exporter": "python",
   "pygments_lexer": "ipython3",
   "version": "3.8.11"
  }
 },
 "nbformat": 4,
 "nbformat_minor": 5
}
